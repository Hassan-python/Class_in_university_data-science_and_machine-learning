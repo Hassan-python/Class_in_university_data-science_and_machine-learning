{
 "cells": [
  {
   "cell_type": "markdown",
   "metadata": {},
   "source": [
    "<h1>Analysis of New Fixed Deposit Account Holders</h1>"
   ]
  },
  {
   "cell_type": "markdown",
   "metadata": {},
   "source": [
    "<h2>#0: Preparations</h2>"
   ]
  },
  {
   "cell_type": "markdown",
   "metadata": {},
   "source": [
    "<h3>#0_1: Importing Libraries</h3>"
   ]
  },
  {
   "cell_type": "code",
   "execution_count": 47,
   "metadata": {},
   "outputs": [],
   "source": [
    "### Import necessary libraries\n",
    "import glob                     # Library for loading data\n",
    "import numpy as np              # Library for handling arrays\n",
    "import pandas as pd             # Library for data preprocessing\n",
    "import matplotlib.pyplot as plt # Library for graph visualization\n",
    "import seaborn as sns           # Library for graph visualization\n",
    "\n",
    "### Libraries for model training and evaluation\n",
    "from sklearn.preprocessing import StandardScaler # Class for standardizing numerical data\n",
    "from sklearn.preprocessing import MinMaxScaler # Class for normalizing numerical data\n",
    "from sklearn.tree import DecisionTreeClassifier, plot_tree  # Classes for decision tree algorithm and visualization\n",
    "from sklearn.model_selection import train_test_split # Function for splitting training and test data\n",
    "from sklearn.metrics import accuracy_score, confusion_matrix, precision_score, recall_score, f1_score, roc_curve, auc # Functions for evaluating decision tree models"
   ]
  },
  {
   "cell_type": "markdown",
   "metadata": {},
   "source": [
    "<h3>#0_2: Display Settings</h3>"
   ]
  },
  {
   "cell_type": "code",
   "execution_count": 48,
   "metadata": {},
   "outputs": [],
   "source": [
    "### Set the number of decimal places for display\n",
    "np.set_printoptions(precision=3)\n",
    "pd.options.display.precision = 3\n",
    "\n",
    "### Set pandas to display all data\n",
    "pd.set_option('display.max_rows', None)\n",
    "pd.set_option('display.max_columns', None)"
   ]
  },
  {
   "cell_type": "markdown",
   "metadata": {},
   "source": [
    "<h3>#0_3: Data Import</h3>"
   ]
  },
  {
   "cell_type": "markdown",
   "metadata": {},
   "source": [
    "<p># 0_3_1: Convert Your Excel File to CSV</p>\n",
    "<li>Open the Excel sheet you want to analyze from within the Excel workbook.</li>\n",
    "<li>Click on \"File\" in the top-left corner and select \"Save As.\"</li>\n",
    "<li>Name the file \"bank_analy\" and select \"CSV\" from the dropdown menu.</li>\n",
    "<li>Select \"This PC\" from the \"Other locations\" section and save it to the desktop.</li>\n",
    "<p># 0_3_2: Select Folder > content > drive > MyDrive and store your file</p>"
   ]
  },
  {
   "cell_type": "code",
   "execution_count": 49,
   "metadata": {},
   "outputs": [],
   "source": [
    "### Code for Reading in Google Colab ###"
   ]
  },
  {
   "cell_type": "code",
   "execution_count": 50,
   "metadata": {},
   "outputs": [],
   "source": [
    "# Code for connecting files in Google Colab\n",
    "# from google.colab import drive\n",
    "# drive.mount('/content/drive')"
   ]
  },
  {
   "cell_type": "markdown",
   "metadata": {},
   "source": [
    "<p># 0_3_3: After executing the above, select Folder > content > drive > MyDrive, click the three-dot menu, and copy the path.</p>"
   ]
  },
  {
   "cell_type": "code",
   "execution_count": 51,
   "metadata": {},
   "outputs": [],
   "source": [
    "# Specify the file path for the data to be imported (default file is bank_default.csv)\n",
    "# file_path = '/content/drive/MyDrive/python_code/bank_analy.csv'"
   ]
  },
  {
   "cell_type": "markdown",
   "metadata": {},
   "source": [
    "<p># 0_3_4: To work with Pandas, load the table data into a Pandas DataFrame.</p>\n",
    "\n",
    "\n",
    "```\n",
    "# Use the Pandas library to read table data\n",
    "df = pd.read_csv(file_path)\n",
    "\n",
    "```\n",
    "\n"
   ]
  },
  {
   "cell_type": "code",
   "execution_count": 52,
   "metadata": {},
   "outputs": [],
   "source": [
    "# df = pd.read('/content/drive/MyDrive/python_code/bank.csv')"
   ]
  },
  {
   "cell_type": "code",
   "execution_count": 54,
   "metadata": {},
   "outputs": [],
   "source": [
    "### ローカル用読み取りコード ###"
   ]
  },
  {
   "cell_type": "code",
   "execution_count": 55,
   "metadata": {},
   "outputs": [],
   "source": [
    "def get_analy_data(file_name=\"*bank*.xlsx\"):\n",
    "    \"\"\"\n",
    "    Get analysis data (may need to be modified for Google Colab distribution)\n",
    "    Args:\n",
    "        file_name: Name of the file for analysis\n",
    "    Return: \n",
    "        df: DataFrame of the analysis file\n",
    "    \"\"\"\n",
    "    files = glob.glob(file_name)\n",
    "    df = pd.read_excel(files[0]) # Get the original data\n",
    "    return df\n"
   ]
  },
  {
   "cell_type": "code",
   "execution_count": 56,
   "metadata": {},
   "outputs": [],
   "source": [
    "df = get_analy_data(file_name=\"*bank*.xlsx\")"
   ]
  },
  {
   "cell_type": "markdown",
   "metadata": {},
   "source": [
    "<h2>#1: Data Inspection</h2>"
   ]
  },
  {
   "cell_type": "markdown",
   "metadata": {},
   "source": [
    "<h3>#1_1: Display Basic Information of the Data</h3>"
   ]
  },
  {
   "cell_type": "markdown",
   "metadata": {},
   "source": [
    "<p>Check various information about the table data.</p>\n",
    "<p>Review the information to consider necessary processing or analysis.</p>\n",
    "\n",
    "\n",
    "\n",
    "```\n",
    "df.info()\n",
    "```"
   ]
  },
  {
   "cell_type": "code",
   "execution_count": 57,
   "metadata": {},
   "outputs": [
    {
     "name": "stdout",
     "output_type": "stream",
     "text": [
      "<class 'pandas.core.frame.DataFrame'>\n",
      "RangeIndex: 4119 entries, 0 to 4118\n",
      "Data columns (total 22 columns):\n",
      " #   Column          Non-Null Count  Dtype  \n",
      "---  ------          --------------  -----  \n",
      " 0   age             4119 non-null   int64  \n",
      " 1   job             4119 non-null   object \n",
      " 2   marital         4119 non-null   object \n",
      " 3   education       4119 non-null   object \n",
      " 4   default         4119 non-null   object \n",
      " 5   housing         4119 non-null   object \n",
      " 6   loan            4119 non-null   object \n",
      " 7   contact         4119 non-null   object \n",
      " 8   month           4119 non-null   object \n",
      " 9   day_of_week     4119 non-null   object \n",
      " 10  duration        4119 non-null   int64  \n",
      " 11  campaign        4119 non-null   int64  \n",
      " 12  pdays           4119 non-null   int64  \n",
      " 13  previous        4119 non-null   int64  \n",
      " 14  poutcome        4119 non-null   object \n",
      " 15  emp.var.rate    4119 non-null   float64\n",
      " 16  cons.price.idx  4119 non-null   float64\n",
      " 17  cons.conf.idx   4119 non-null   float64\n",
      " 18  euribor3m       4119 non-null   float64\n",
      " 19  nr.employed     4119 non-null   float64\n",
      " 20  y               4119 non-null   object \n",
      " 21  Unnamed: 21     2 non-null      float64\n",
      "dtypes: float64(6), int64(5), object(11)\n",
      "memory usage: 708.1+ KB\n"
     ]
    }
   ],
   "source": [
    "df.info()"
   ]
  },
  {
   "cell_type": "markdown",
   "metadata": {},
   "source": [
    "<p>For example, the following information can be confirmed in the current data:</p>\n",
    "<p>-------------------</p>\n",
    "<p>Total number of rows: 4119</p>\n",
    "<p>Total number of columns: 21</p>\n",
    "\n",
    "<ul>\n",
    "    <li>age: 4119 rows, 0 missing values, data type int64</li>\n",
    "    <li>y: 4119 rows, 0 missing values, data type object</li>\n",
    "    <p>........</p>\n",
    "</ul>"
   ]
  },
  {
   "cell_type": "markdown",
   "metadata": {},
   "source": [
    "<h3>#1_2: Display Data Sample</h3>"
   ]
  },
  {
   "cell_type": "markdown",
   "metadata": {},
   "source": [
    "<p>Display the top n rows of data to review an overview of the data.</p>\n",
    "\n",
    "\n",
    "```\n",
    "# Specify the number of rows to display with n (defaults to the top 5 rows if empty)\n",
    "\n",
    "df.head(n)\n",
    "```\n",
    "\n"
   ]
  },
  {
   "cell_type": "code",
   "execution_count": 58,
   "metadata": {},
   "outputs": [
    {
     "data": {
      "text/html": [
       "<div>\n",
       "<style scoped>\n",
       "    .dataframe tbody tr th:only-of-type {\n",
       "        vertical-align: middle;\n",
       "    }\n",
       "\n",
       "    .dataframe tbody tr th {\n",
       "        vertical-align: top;\n",
       "    }\n",
       "\n",
       "    .dataframe thead th {\n",
       "        text-align: right;\n",
       "    }\n",
       "</style>\n",
       "<table border=\"1\" class=\"dataframe\">\n",
       "  <thead>\n",
       "    <tr style=\"text-align: right;\">\n",
       "      <th></th>\n",
       "      <th>age</th>\n",
       "      <th>job</th>\n",
       "      <th>marital</th>\n",
       "      <th>education</th>\n",
       "      <th>default</th>\n",
       "      <th>housing</th>\n",
       "      <th>loan</th>\n",
       "      <th>contact</th>\n",
       "      <th>month</th>\n",
       "      <th>day_of_week</th>\n",
       "      <th>duration</th>\n",
       "      <th>campaign</th>\n",
       "      <th>pdays</th>\n",
       "      <th>previous</th>\n",
       "      <th>poutcome</th>\n",
       "      <th>emp.var.rate</th>\n",
       "      <th>cons.price.idx</th>\n",
       "      <th>cons.conf.idx</th>\n",
       "      <th>euribor3m</th>\n",
       "      <th>nr.employed</th>\n",
       "      <th>y</th>\n",
       "      <th>Unnamed: 21</th>\n",
       "    </tr>\n",
       "  </thead>\n",
       "  <tbody>\n",
       "    <tr>\n",
       "      <th>0</th>\n",
       "      <td>30</td>\n",
       "      <td>blue-collar</td>\n",
       "      <td>married</td>\n",
       "      <td>basic.9y</td>\n",
       "      <td>no</td>\n",
       "      <td>yes</td>\n",
       "      <td>no</td>\n",
       "      <td>cellular</td>\n",
       "      <td>may</td>\n",
       "      <td>fri</td>\n",
       "      <td>487</td>\n",
       "      <td>2</td>\n",
       "      <td>999</td>\n",
       "      <td>0</td>\n",
       "      <td>nonexistent</td>\n",
       "      <td>-1.8</td>\n",
       "      <td>92.893</td>\n",
       "      <td>-46.2</td>\n",
       "      <td>1.313</td>\n",
       "      <td>5099.1</td>\n",
       "      <td>no</td>\n",
       "      <td>451.0</td>\n",
       "    </tr>\n",
       "    <tr>\n",
       "      <th>1</th>\n",
       "      <td>39</td>\n",
       "      <td>services</td>\n",
       "      <td>single</td>\n",
       "      <td>high.school</td>\n",
       "      <td>no</td>\n",
       "      <td>no</td>\n",
       "      <td>no</td>\n",
       "      <td>telephone</td>\n",
       "      <td>may</td>\n",
       "      <td>fri</td>\n",
       "      <td>346</td>\n",
       "      <td>4</td>\n",
       "      <td>999</td>\n",
       "      <td>0</td>\n",
       "      <td>nonexistent</td>\n",
       "      <td>1.1</td>\n",
       "      <td>93.994</td>\n",
       "      <td>-36.4</td>\n",
       "      <td>4.855</td>\n",
       "      <td>5191.0</td>\n",
       "      <td>no</td>\n",
       "      <td>3668.0</td>\n",
       "    </tr>\n",
       "    <tr>\n",
       "      <th>2</th>\n",
       "      <td>25</td>\n",
       "      <td>services</td>\n",
       "      <td>married</td>\n",
       "      <td>high.school</td>\n",
       "      <td>no</td>\n",
       "      <td>yes</td>\n",
       "      <td>no</td>\n",
       "      <td>telephone</td>\n",
       "      <td>jun</td>\n",
       "      <td>wed</td>\n",
       "      <td>227</td>\n",
       "      <td>1</td>\n",
       "      <td>999</td>\n",
       "      <td>0</td>\n",
       "      <td>nonexistent</td>\n",
       "      <td>1.4</td>\n",
       "      <td>94.465</td>\n",
       "      <td>-41.8</td>\n",
       "      <td>4.962</td>\n",
       "      <td>5228.1</td>\n",
       "      <td>no</td>\n",
       "      <td>NaN</td>\n",
       "    </tr>\n",
       "    <tr>\n",
       "      <th>3</th>\n",
       "      <td>38</td>\n",
       "      <td>services</td>\n",
       "      <td>married</td>\n",
       "      <td>basic.9y</td>\n",
       "      <td>no</td>\n",
       "      <td>unknown</td>\n",
       "      <td>unknown</td>\n",
       "      <td>telephone</td>\n",
       "      <td>jun</td>\n",
       "      <td>fri</td>\n",
       "      <td>17</td>\n",
       "      <td>3</td>\n",
       "      <td>999</td>\n",
       "      <td>0</td>\n",
       "      <td>nonexistent</td>\n",
       "      <td>1.4</td>\n",
       "      <td>94.465</td>\n",
       "      <td>-41.8</td>\n",
       "      <td>4.959</td>\n",
       "      <td>5228.1</td>\n",
       "      <td>no</td>\n",
       "      <td>NaN</td>\n",
       "    </tr>\n",
       "    <tr>\n",
       "      <th>4</th>\n",
       "      <td>47</td>\n",
       "      <td>admin.</td>\n",
       "      <td>married</td>\n",
       "      <td>university.degree</td>\n",
       "      <td>no</td>\n",
       "      <td>yes</td>\n",
       "      <td>no</td>\n",
       "      <td>cellular</td>\n",
       "      <td>nov</td>\n",
       "      <td>mon</td>\n",
       "      <td>58</td>\n",
       "      <td>1</td>\n",
       "      <td>999</td>\n",
       "      <td>0</td>\n",
       "      <td>nonexistent</td>\n",
       "      <td>-0.1</td>\n",
       "      <td>93.200</td>\n",
       "      <td>-42.0</td>\n",
       "      <td>4.191</td>\n",
       "      <td>5195.8</td>\n",
       "      <td>no</td>\n",
       "      <td>NaN</td>\n",
       "    </tr>\n",
       "    <tr>\n",
       "      <th>5</th>\n",
       "      <td>32</td>\n",
       "      <td>services</td>\n",
       "      <td>single</td>\n",
       "      <td>university.degree</td>\n",
       "      <td>no</td>\n",
       "      <td>no</td>\n",
       "      <td>no</td>\n",
       "      <td>cellular</td>\n",
       "      <td>sep</td>\n",
       "      <td>thu</td>\n",
       "      <td>128</td>\n",
       "      <td>3</td>\n",
       "      <td>999</td>\n",
       "      <td>2</td>\n",
       "      <td>failure</td>\n",
       "      <td>-1.1</td>\n",
       "      <td>94.199</td>\n",
       "      <td>-37.5</td>\n",
       "      <td>0.884</td>\n",
       "      <td>4963.6</td>\n",
       "      <td>no</td>\n",
       "      <td>NaN</td>\n",
       "    </tr>\n",
       "    <tr>\n",
       "      <th>6</th>\n",
       "      <td>32</td>\n",
       "      <td>admin.</td>\n",
       "      <td>single</td>\n",
       "      <td>university.degree</td>\n",
       "      <td>no</td>\n",
       "      <td>yes</td>\n",
       "      <td>no</td>\n",
       "      <td>cellular</td>\n",
       "      <td>sep</td>\n",
       "      <td>mon</td>\n",
       "      <td>290</td>\n",
       "      <td>4</td>\n",
       "      <td>999</td>\n",
       "      <td>0</td>\n",
       "      <td>nonexistent</td>\n",
       "      <td>-1.1</td>\n",
       "      <td>94.199</td>\n",
       "      <td>-37.5</td>\n",
       "      <td>0.879</td>\n",
       "      <td>4963.6</td>\n",
       "      <td>no</td>\n",
       "      <td>NaN</td>\n",
       "    </tr>\n",
       "    <tr>\n",
       "      <th>7</th>\n",
       "      <td>41</td>\n",
       "      <td>entrepreneur</td>\n",
       "      <td>married</td>\n",
       "      <td>university.degree</td>\n",
       "      <td>unknown</td>\n",
       "      <td>yes</td>\n",
       "      <td>no</td>\n",
       "      <td>cellular</td>\n",
       "      <td>nov</td>\n",
       "      <td>mon</td>\n",
       "      <td>44</td>\n",
       "      <td>2</td>\n",
       "      <td>999</td>\n",
       "      <td>0</td>\n",
       "      <td>nonexistent</td>\n",
       "      <td>-0.1</td>\n",
       "      <td>93.200</td>\n",
       "      <td>-42.0</td>\n",
       "      <td>4.191</td>\n",
       "      <td>5195.8</td>\n",
       "      <td>no</td>\n",
       "      <td>NaN</td>\n",
       "    </tr>\n",
       "    <tr>\n",
       "      <th>8</th>\n",
       "      <td>31</td>\n",
       "      <td>services</td>\n",
       "      <td>divorced</td>\n",
       "      <td>professional.course</td>\n",
       "      <td>no</td>\n",
       "      <td>no</td>\n",
       "      <td>no</td>\n",
       "      <td>cellular</td>\n",
       "      <td>nov</td>\n",
       "      <td>tue</td>\n",
       "      <td>68</td>\n",
       "      <td>1</td>\n",
       "      <td>999</td>\n",
       "      <td>1</td>\n",
       "      <td>failure</td>\n",
       "      <td>-0.1</td>\n",
       "      <td>93.200</td>\n",
       "      <td>-42.0</td>\n",
       "      <td>4.153</td>\n",
       "      <td>5195.8</td>\n",
       "      <td>no</td>\n",
       "      <td>NaN</td>\n",
       "    </tr>\n",
       "    <tr>\n",
       "      <th>9</th>\n",
       "      <td>35</td>\n",
       "      <td>blue-collar</td>\n",
       "      <td>married</td>\n",
       "      <td>basic.9y</td>\n",
       "      <td>unknown</td>\n",
       "      <td>no</td>\n",
       "      <td>no</td>\n",
       "      <td>telephone</td>\n",
       "      <td>may</td>\n",
       "      <td>thu</td>\n",
       "      <td>170</td>\n",
       "      <td>1</td>\n",
       "      <td>999</td>\n",
       "      <td>0</td>\n",
       "      <td>nonexistent</td>\n",
       "      <td>1.1</td>\n",
       "      <td>93.994</td>\n",
       "      <td>-36.4</td>\n",
       "      <td>4.855</td>\n",
       "      <td>5191.0</td>\n",
       "      <td>no</td>\n",
       "      <td>NaN</td>\n",
       "    </tr>\n",
       "  </tbody>\n",
       "</table>\n",
       "</div>"
      ],
      "text/plain": [
       "   age           job   marital            education  default  housing  \\\n",
       "0   30   blue-collar   married             basic.9y       no      yes   \n",
       "1   39      services    single          high.school       no       no   \n",
       "2   25      services   married          high.school       no      yes   \n",
       "3   38      services   married             basic.9y       no  unknown   \n",
       "4   47        admin.   married    university.degree       no      yes   \n",
       "5   32      services    single    university.degree       no       no   \n",
       "6   32        admin.    single    university.degree       no      yes   \n",
       "7   41  entrepreneur   married    university.degree  unknown      yes   \n",
       "8   31      services  divorced  professional.course       no       no   \n",
       "9   35   blue-collar   married             basic.9y  unknown       no   \n",
       "\n",
       "      loan    contact month day_of_week  duration  campaign  pdays  previous  \\\n",
       "0       no   cellular   may         fri       487         2    999         0   \n",
       "1       no  telephone   may         fri       346         4    999         0   \n",
       "2       no  telephone   jun         wed       227         1    999         0   \n",
       "3  unknown  telephone   jun         fri        17         3    999         0   \n",
       "4       no   cellular   nov         mon        58         1    999         0   \n",
       "5       no   cellular   sep         thu       128         3    999         2   \n",
       "6       no   cellular   sep         mon       290         4    999         0   \n",
       "7       no   cellular   nov         mon        44         2    999         0   \n",
       "8       no   cellular   nov         tue        68         1    999         1   \n",
       "9       no  telephone   may         thu       170         1    999         0   \n",
       "\n",
       "      poutcome  emp.var.rate  cons.price.idx  cons.conf.idx  euribor3m  \\\n",
       "0  nonexistent          -1.8          92.893          -46.2      1.313   \n",
       "1  nonexistent           1.1          93.994          -36.4      4.855   \n",
       "2  nonexistent           1.4          94.465          -41.8      4.962   \n",
       "3  nonexistent           1.4          94.465          -41.8      4.959   \n",
       "4  nonexistent          -0.1          93.200          -42.0      4.191   \n",
       "5      failure          -1.1          94.199          -37.5      0.884   \n",
       "6  nonexistent          -1.1          94.199          -37.5      0.879   \n",
       "7  nonexistent          -0.1          93.200          -42.0      4.191   \n",
       "8      failure          -0.1          93.200          -42.0      4.153   \n",
       "9  nonexistent           1.1          93.994          -36.4      4.855   \n",
       "\n",
       "   nr.employed   y  Unnamed: 21  \n",
       "0       5099.1  no        451.0  \n",
       "1       5191.0  no       3668.0  \n",
       "2       5228.1  no          NaN  \n",
       "3       5228.1  no          NaN  \n",
       "4       5195.8  no          NaN  \n",
       "5       4963.6  no          NaN  \n",
       "6       4963.6  no          NaN  \n",
       "7       5195.8  no          NaN  \n",
       "8       5195.8  no          NaN  \n",
       "9       5191.0  no          NaN  "
      ]
     },
     "execution_count": 58,
     "metadata": {},
     "output_type": "execute_result"
    }
   ],
   "source": [
    "df.head(10)"
   ]
  },
  {
   "cell_type": "markdown",
   "metadata": {},
   "source": [
    "<p>The content of each item is as follows:</p>\n",
    "<ul>\n",
    "    <li>Feature Name: Description of the feature</li>\n",
    "</ul>"
   ]
  },
  {
   "cell_type": "markdown",
   "metadata": {},
   "source": [
    "<h3>#1_3: Display Data Statistics</h3>"
   ]
  },
  {
   "cell_type": "markdown",
   "metadata": {},
   "source": [
    "<p>Check the statistics of the numerical data.</p>\n",
    "<p>Review the composition of each column to consider necessary processing.</p>\n",
    "\n",
    "\n",
    "\n",
    "```\n",
    "df.describe()\n",
    "```\n",
    "\n"
   ]
  },
  {
   "cell_type": "code",
   "execution_count": 59,
   "metadata": {},
   "outputs": [
    {
     "data": {
      "text/html": [
       "<div>\n",
       "<style scoped>\n",
       "    .dataframe tbody tr th:only-of-type {\n",
       "        vertical-align: middle;\n",
       "    }\n",
       "\n",
       "    .dataframe tbody tr th {\n",
       "        vertical-align: top;\n",
       "    }\n",
       "\n",
       "    .dataframe thead th {\n",
       "        text-align: right;\n",
       "    }\n",
       "</style>\n",
       "<table border=\"1\" class=\"dataframe\">\n",
       "  <thead>\n",
       "    <tr style=\"text-align: right;\">\n",
       "      <th></th>\n",
       "      <th>age</th>\n",
       "      <th>duration</th>\n",
       "      <th>campaign</th>\n",
       "      <th>pdays</th>\n",
       "      <th>previous</th>\n",
       "      <th>emp.var.rate</th>\n",
       "      <th>cons.price.idx</th>\n",
       "      <th>cons.conf.idx</th>\n",
       "      <th>euribor3m</th>\n",
       "      <th>nr.employed</th>\n",
       "      <th>Unnamed: 21</th>\n",
       "    </tr>\n",
       "  </thead>\n",
       "  <tbody>\n",
       "    <tr>\n",
       "      <th>count</th>\n",
       "      <td>4119.000</td>\n",
       "      <td>4119.000</td>\n",
       "      <td>4119.000</td>\n",
       "      <td>4119.000</td>\n",
       "      <td>4119.000</td>\n",
       "      <td>4119.000</td>\n",
       "      <td>4119.000</td>\n",
       "      <td>4119.000</td>\n",
       "      <td>4119.000</td>\n",
       "      <td>4119.000</td>\n",
       "      <td>2.000</td>\n",
       "    </tr>\n",
       "    <tr>\n",
       "      <th>mean</th>\n",
       "      <td>40.114</td>\n",
       "      <td>256.788</td>\n",
       "      <td>2.537</td>\n",
       "      <td>960.422</td>\n",
       "      <td>0.190</td>\n",
       "      <td>0.085</td>\n",
       "      <td>93.580</td>\n",
       "      <td>-40.499</td>\n",
       "      <td>3.621</td>\n",
       "      <td>5166.482</td>\n",
       "      <td>2059.500</td>\n",
       "    </tr>\n",
       "    <tr>\n",
       "      <th>std</th>\n",
       "      <td>10.313</td>\n",
       "      <td>254.704</td>\n",
       "      <td>2.568</td>\n",
       "      <td>191.923</td>\n",
       "      <td>0.542</td>\n",
       "      <td>1.563</td>\n",
       "      <td>0.579</td>\n",
       "      <td>4.595</td>\n",
       "      <td>1.734</td>\n",
       "      <td>73.668</td>\n",
       "      <td>2274.763</td>\n",
       "    </tr>\n",
       "    <tr>\n",
       "      <th>min</th>\n",
       "      <td>18.000</td>\n",
       "      <td>0.000</td>\n",
       "      <td>1.000</td>\n",
       "      <td>0.000</td>\n",
       "      <td>0.000</td>\n",
       "      <td>-3.400</td>\n",
       "      <td>92.201</td>\n",
       "      <td>-50.800</td>\n",
       "      <td>0.635</td>\n",
       "      <td>4963.600</td>\n",
       "      <td>451.000</td>\n",
       "    </tr>\n",
       "    <tr>\n",
       "      <th>25%</th>\n",
       "      <td>32.000</td>\n",
       "      <td>103.000</td>\n",
       "      <td>1.000</td>\n",
       "      <td>999.000</td>\n",
       "      <td>0.000</td>\n",
       "      <td>-1.800</td>\n",
       "      <td>93.075</td>\n",
       "      <td>-42.700</td>\n",
       "      <td>1.334</td>\n",
       "      <td>5099.100</td>\n",
       "      <td>1255.250</td>\n",
       "    </tr>\n",
       "    <tr>\n",
       "      <th>50%</th>\n",
       "      <td>38.000</td>\n",
       "      <td>181.000</td>\n",
       "      <td>2.000</td>\n",
       "      <td>999.000</td>\n",
       "      <td>0.000</td>\n",
       "      <td>1.100</td>\n",
       "      <td>93.749</td>\n",
       "      <td>-41.800</td>\n",
       "      <td>4.857</td>\n",
       "      <td>5191.000</td>\n",
       "      <td>2059.500</td>\n",
       "    </tr>\n",
       "    <tr>\n",
       "      <th>75%</th>\n",
       "      <td>47.000</td>\n",
       "      <td>317.000</td>\n",
       "      <td>3.000</td>\n",
       "      <td>999.000</td>\n",
       "      <td>0.000</td>\n",
       "      <td>1.400</td>\n",
       "      <td>93.994</td>\n",
       "      <td>-36.400</td>\n",
       "      <td>4.961</td>\n",
       "      <td>5228.100</td>\n",
       "      <td>2863.750</td>\n",
       "    </tr>\n",
       "    <tr>\n",
       "      <th>max</th>\n",
       "      <td>88.000</td>\n",
       "      <td>3643.000</td>\n",
       "      <td>35.000</td>\n",
       "      <td>999.000</td>\n",
       "      <td>6.000</td>\n",
       "      <td>1.400</td>\n",
       "      <td>94.767</td>\n",
       "      <td>-26.900</td>\n",
       "      <td>5.045</td>\n",
       "      <td>5228.100</td>\n",
       "      <td>3668.000</td>\n",
       "    </tr>\n",
       "  </tbody>\n",
       "</table>\n",
       "</div>"
      ],
      "text/plain": [
       "            age  duration  campaign     pdays  previous  emp.var.rate  \\\n",
       "count  4119.000  4119.000  4119.000  4119.000  4119.000      4119.000   \n",
       "mean     40.114   256.788     2.537   960.422     0.190         0.085   \n",
       "std      10.313   254.704     2.568   191.923     0.542         1.563   \n",
       "min      18.000     0.000     1.000     0.000     0.000        -3.400   \n",
       "25%      32.000   103.000     1.000   999.000     0.000        -1.800   \n",
       "50%      38.000   181.000     2.000   999.000     0.000         1.100   \n",
       "75%      47.000   317.000     3.000   999.000     0.000         1.400   \n",
       "max      88.000  3643.000    35.000   999.000     6.000         1.400   \n",
       "\n",
       "       cons.price.idx  cons.conf.idx  euribor3m  nr.employed  Unnamed: 21  \n",
       "count        4119.000       4119.000   4119.000     4119.000        2.000  \n",
       "mean           93.580        -40.499      3.621     5166.482     2059.500  \n",
       "std             0.579          4.595      1.734       73.668     2274.763  \n",
       "min            92.201        -50.800      0.635     4963.600      451.000  \n",
       "25%            93.075        -42.700      1.334     5099.100     1255.250  \n",
       "50%            93.749        -41.800      4.857     5191.000     2059.500  \n",
       "75%            93.994        -36.400      4.961     5228.100     2863.750  \n",
       "max            94.767        -26.900      5.045     5228.100     3668.000  "
      ]
     },
     "execution_count": 59,
     "metadata": {},
     "output_type": "execute_result"
    }
   ],
   "source": [
    "df.describe()"
   ]
  },
  {
   "cell_type": "markdown",
   "metadata": {},
   "source": [
    "<p>The statistics for each item are as follows (calculated excluding all NaN values):</p>\n",
    "<ul>\n",
    "    <li>count: Number of data points in the column</li>\n",
    "    <li>mean: Mean value of the column</li>\n",
    "    <li>std: Standard deviation of the column</li>\n",
    "    <li>min: Minimum value of the column</li>\n",
    "    <li>25%: First quartile of the column</li>\n",
    "    <li>50%: Second quartile (median) of the column</li>\n",
    "    <li>75%: Third quartile of the column</li>\n",
    "    <li>max: Maximum value of the column</li>\n",
    "</ul>"
   ]
  },
  {
   "cell_type": "markdown",
   "metadata": {},
   "source": [
    "<h2>#2: Data Visualization</h2>"
   ]
  },
  {
   "cell_type": "code",
   "execution_count": 60,
   "metadata": {},
   "outputs": [],
   "source": [
    "# Function to display a histogram\n",
    "def ViewHistogram(df, column, category_column, category_values, colors, alpha=0.5, xlabel=\"age\", ylabel=\"number of yes and no\", figsize=(12, 6)):\n",
    "    \"\"\"\n",
    "    Displays a histogram based on the specified DataFrame.\n",
    "\n",
    "    Args:\n",
    "        df: The DataFrame used to create the histogram.\n",
    "        column: The name of the column to be plotted in the histogram.\n",
    "        category_column: The name of the column used to split the data by category.\n",
    "        category_values: A list of values for each category.\n",
    "        colors: A list of colors for each category's histogram.\n",
    "        alpha: The transparency of the histogram. Default is 0.5.\n",
    "        xlabel: Label for the x-axis. Default is \"age\".\n",
    "        ylabel: Label for the y-axis. Default is \"number of yes and no\".\n",
    "        figsize: Size of the figure (width, height). Default is (12, 6).\n",
    "    \n",
    "    Returns:\n",
    "        None\n",
    "    \"\"\"\n",
    "    plt.figure(figsize=figsize)  # Set the size of the figure (default is 12 inches wide and 6 inches high)\n",
    "    \n",
    "    # Plot histogram for each category by splitting the data\n",
    "    for value, color in zip(category_values, colors):\n",
    "        subset = df[df[category_column] == value]  # Extract rows for the specified category\n",
    "        subset[column].hist(color=color, alpha=alpha, label=value)  # Plot histogram\n",
    "    \n",
    "    plt.xlabel(xlabel)  # Set the label for the x-axis\n",
    "    plt.ylabel(ylabel)  # Set the label for the y-axis\n",
    "    plt.legend()  # Display the legend\n",
    "    plt.show()  # Show the graph\n"
   ]
  },
  {
   "cell_type": "code",
   "execution_count": 61,
   "metadata": {},
   "outputs": [
    {
     "data": {
      "image/png": "[encoded data removed]",
      "text/plain": [
       "<Figure size 1200x600 with 1 Axes>"
      ]
     },
     "metadata": {},
     "output_type": "display_data"
    }
   ],
   "source": [
    "# Draw histogram\n",
    "ViewHistogram(\n",
    "    df = df,  # Specify the DataFrame\n",
    "    column = \"age\",  # Specify the x-axis of the histogram\n",
    "    category_column = \"y\",  # Specify the column for the y-axis data\n",
    "    category_values = [\"yes\", \"no\"],  # Specify the groups for the histogram\n",
    "    colors = [\"#5F9BFF\", \"#F8766D\"]  # Blue for \"yes\", pink for \"no\"\n",
    ")\n"
   ]
  },
  {
   "cell_type": "markdown",
   "metadata": {},
   "source": [
    "<h2>#3 : Data Preprocessing</h2>\n"
   ]
  },
  {
   "cell_type": "markdown",
   "metadata": {},
   "source": [
    "<h2>#3 : Data Preprocessing</h2>\n"
   ]
  },
  {
   "cell_type": "markdown",
   "metadata": {},
   "source": [
    "<p>Remove data (columns) that are not used for analysis.</p>\n",
    "<p>You can specify column names to be removed in a list, allowing you to delete multiple columns simultaneously.</p>\n",
    "\n",
    "\n",
    "\n",
    "\n",
    "```\n",
    "# Use df.drop() to remove specified columns or rows\n",
    "# axis: Specify the direction of operation (1 for column deletion, 0 for row deletion)\n",
    "\n",
    "df.drop(list_of_columns_to_remove, axis=1).reset_index(drop=True)\n",
    "```\n"
   ]
  },
  {
   "cell_type": "code",
   "execution_count": 62,
   "metadata": {},
   "outputs": [],
   "source": [
    "drop_columns = ['duration']\n",
    "df = df.drop(drop_columns, axis=1).reset_index(drop=True)"
   ]
  },
  {
   "cell_type": "code",
   "execution_count": 63,
   "metadata": {},
   "outputs": [
    {
     "data": {
      "text/html": [
       "<div>\n",
       "<style scoped>\n",
       "    .dataframe tbody tr th:only-of-type {\n",
       "        vertical-align: middle;\n",
       "    }\n",
       "\n",
       "    .dataframe tbody tr th {\n",
       "        vertical-align: top;\n",
       "    }\n",
       "\n",
       "    .dataframe thead th {\n",
       "        text-align: right;\n",
       "    }\n",
       "</style>\n",
       "<table border=\"1\" class=\"dataframe\">\n",
       "  <thead>\n",
       "    <tr style=\"text-align: right;\">\n",
       "      <th></th>\n",
       "      <th>age</th>\n",
       "      <th>job</th>\n",
       "      <th>marital</th>\n",
       "      <th>education</th>\n",
       "      <th>default</th>\n",
       "      <th>housing</th>\n",
       "      <th>loan</th>\n",
       "      <th>contact</th>\n",
       "      <th>month</th>\n",
       "      <th>day_of_week</th>\n",
       "      <th>campaign</th>\n",
       "      <th>pdays</th>\n",
       "      <th>previous</th>\n",
       "      <th>poutcome</th>\n",
       "      <th>emp.var.rate</th>\n",
       "      <th>cons.price.idx</th>\n",
       "      <th>cons.conf.idx</th>\n",
       "      <th>euribor3m</th>\n",
       "      <th>nr.employed</th>\n",
       "      <th>y</th>\n",
       "      <th>Unnamed: 21</th>\n",
       "    </tr>\n",
       "  </thead>\n",
       "  <tbody>\n",
       "    <tr>\n",
       "      <th>0</th>\n",
       "      <td>30</td>\n",
       "      <td>blue-collar</td>\n",
       "      <td>married</td>\n",
       "      <td>basic.9y</td>\n",
       "      <td>no</td>\n",
       "      <td>yes</td>\n",
       "      <td>no</td>\n",
       "      <td>cellular</td>\n",
       "      <td>may</td>\n",
       "      <td>fri</td>\n",
       "      <td>2</td>\n",
       "      <td>999</td>\n",
       "      <td>0</td>\n",
       "      <td>nonexistent</td>\n",
       "      <td>-1.8</td>\n",
       "      <td>92.893</td>\n",
       "      <td>-46.2</td>\n",
       "      <td>1.313</td>\n",
       "      <td>5099.1</td>\n",
       "      <td>no</td>\n",
       "      <td>451.0</td>\n",
       "    </tr>\n",
       "    <tr>\n",
       "      <th>1</th>\n",
       "      <td>39</td>\n",
       "      <td>services</td>\n",
       "      <td>single</td>\n",
       "      <td>high.school</td>\n",
       "      <td>no</td>\n",
       "      <td>no</td>\n",
       "      <td>no</td>\n",
       "      <td>telephone</td>\n",
       "      <td>may</td>\n",
       "      <td>fri</td>\n",
       "      <td>4</td>\n",
       "      <td>999</td>\n",
       "      <td>0</td>\n",
       "      <td>nonexistent</td>\n",
       "      <td>1.1</td>\n",
       "      <td>93.994</td>\n",
       "      <td>-36.4</td>\n",
       "      <td>4.855</td>\n",
       "      <td>5191.0</td>\n",
       "      <td>no</td>\n",
       "      <td>3668.0</td>\n",
       "    </tr>\n",
       "    <tr>\n",
       "      <th>2</th>\n",
       "      <td>25</td>\n",
       "      <td>services</td>\n",
       "      <td>married</td>\n",
       "      <td>high.school</td>\n",
       "      <td>no</td>\n",
       "      <td>yes</td>\n",
       "      <td>no</td>\n",
       "      <td>telephone</td>\n",
       "      <td>jun</td>\n",
       "      <td>wed</td>\n",
       "      <td>1</td>\n",
       "      <td>999</td>\n",
       "      <td>0</td>\n",
       "      <td>nonexistent</td>\n",
       "      <td>1.4</td>\n",
       "      <td>94.465</td>\n",
       "      <td>-41.8</td>\n",
       "      <td>4.962</td>\n",
       "      <td>5228.1</td>\n",
       "      <td>no</td>\n",
       "      <td>NaN</td>\n",
       "    </tr>\n",
       "    <tr>\n",
       "      <th>3</th>\n",
       "      <td>38</td>\n",
       "      <td>services</td>\n",
       "      <td>married</td>\n",
       "      <td>basic.9y</td>\n",
       "      <td>no</td>\n",
       "      <td>unknown</td>\n",
       "      <td>unknown</td>\n",
       "      <td>telephone</td>\n",
       "      <td>jun</td>\n",
       "      <td>fri</td>\n",
       "      <td>3</td>\n",
       "      <td>999</td>\n",
       "      <td>0</td>\n",
       "      <td>nonexistent</td>\n",
       "      <td>1.4</td>\n",
       "      <td>94.465</td>\n",
       "      <td>-41.8</td>\n",
       "      <td>4.959</td>\n",
       "      <td>5228.1</td>\n",
       "      <td>no</td>\n",
       "      <td>NaN</td>\n",
       "    </tr>\n",
       "    <tr>\n",
       "      <th>4</th>\n",
       "      <td>47</td>\n",
       "      <td>admin.</td>\n",
       "      <td>married</td>\n",
       "      <td>university.degree</td>\n",
       "      <td>no</td>\n",
       "      <td>yes</td>\n",
       "      <td>no</td>\n",
       "      <td>cellular</td>\n",
       "      <td>nov</td>\n",
       "      <td>mon</td>\n",
       "      <td>1</td>\n",
       "      <td>999</td>\n",
       "      <td>0</td>\n",
       "      <td>nonexistent</td>\n",
       "      <td>-0.1</td>\n",
       "      <td>93.200</td>\n",
       "      <td>-42.0</td>\n",
       "      <td>4.191</td>\n",
       "      <td>5195.8</td>\n",
       "      <td>no</td>\n",
       "      <td>NaN</td>\n",
       "    </tr>\n",
       "    <tr>\n",
       "      <th>5</th>\n",
       "      <td>32</td>\n",
       "      <td>services</td>\n",
       "      <td>single</td>\n",
       "      <td>university.degree</td>\n",
       "      <td>no</td>\n",
       "      <td>no</td>\n",
       "      <td>no</td>\n",
       "      <td>cellular</td>\n",
       "      <td>sep</td>\n",
       "      <td>thu</td>\n",
       "      <td>3</td>\n",
       "      <td>999</td>\n",
       "      <td>2</td>\n",
       "      <td>failure</td>\n",
       "      <td>-1.1</td>\n",
       "      <td>94.199</td>\n",
       "      <td>-37.5</td>\n",
       "      <td>0.884</td>\n",
       "      <td>4963.6</td>\n",
       "      <td>no</td>\n",
       "      <td>NaN</td>\n",
       "    </tr>\n",
       "    <tr>\n",
       "      <th>6</th>\n",
       "      <td>32</td>\n",
       "      <td>admin.</td>\n",
       "      <td>single</td>\n",
       "      <td>university.degree</td>\n",
       "      <td>no</td>\n",
       "      <td>yes</td>\n",
       "      <td>no</td>\n",
       "      <td>cellular</td>\n",
       "      <td>sep</td>\n",
       "      <td>mon</td>\n",
       "      <td>4</td>\n",
       "      <td>999</td>\n",
       "      <td>0</td>\n",
       "      <td>nonexistent</td>\n",
       "      <td>-1.1</td>\n",
       "      <td>94.199</td>\n",
       "      <td>-37.5</td>\n",
       "      <td>0.879</td>\n",
       "      <td>4963.6</td>\n",
       "      <td>no</td>\n",
       "      <td>NaN</td>\n",
       "    </tr>\n",
       "    <tr>\n",
       "      <th>7</th>\n",
       "      <td>41</td>\n",
       "      <td>entrepreneur</td>\n",
       "      <td>married</td>\n",
       "      <td>university.degree</td>\n",
       "      <td>unknown</td>\n",
       "      <td>yes</td>\n",
       "      <td>no</td>\n",
       "      <td>cellular</td>\n",
       "      <td>nov</td>\n",
       "      <td>mon</td>\n",
       "      <td>2</td>\n",
       "      <td>999</td>\n",
       "      <td>0</td>\n",
       "      <td>nonexistent</td>\n",
       "      <td>-0.1</td>\n",
       "      <td>93.200</td>\n",
       "      <td>-42.0</td>\n",
       "      <td>4.191</td>\n",
       "      <td>5195.8</td>\n",
       "      <td>no</td>\n",
       "      <td>NaN</td>\n",
       "    </tr>\n",
       "    <tr>\n",
       "      <th>8</th>\n",
       "      <td>31</td>\n",
       "      <td>services</td>\n",
       "      <td>divorced</td>\n",
       "      <td>professional.course</td>\n",
       "      <td>no</td>\n",
       "      <td>no</td>\n",
       "      <td>no</td>\n",
       "      <td>cellular</td>\n",
       "      <td>nov</td>\n",
       "      <td>tue</td>\n",
       "      <td>1</td>\n",
       "      <td>999</td>\n",
       "      <td>1</td>\n",
       "      <td>failure</td>\n",
       "      <td>-0.1</td>\n",
       "      <td>93.200</td>\n",
       "      <td>-42.0</td>\n",
       "      <td>4.153</td>\n",
       "      <td>5195.8</td>\n",
       "      <td>no</td>\n",
       "      <td>NaN</td>\n",
       "    </tr>\n",
       "    <tr>\n",
       "      <th>9</th>\n",
       "      <td>35</td>\n",
       "      <td>blue-collar</td>\n",
       "      <td>married</td>\n",
       "      <td>basic.9y</td>\n",
       "      <td>unknown</td>\n",
       "      <td>no</td>\n",
       "      <td>no</td>\n",
       "      <td>telephone</td>\n",
       "      <td>may</td>\n",
       "      <td>thu</td>\n",
       "      <td>1</td>\n",
       "      <td>999</td>\n",
       "      <td>0</td>\n",
       "      <td>nonexistent</td>\n",
       "      <td>1.1</td>\n",
       "      <td>93.994</td>\n",
       "      <td>-36.4</td>\n",
       "      <td>4.855</td>\n",
       "      <td>5191.0</td>\n",
       "      <td>no</td>\n",
       "      <td>NaN</td>\n",
       "    </tr>\n",
       "  </tbody>\n",
       "</table>\n",
       "</div>"
      ],
      "text/plain": [
       "   age           job   marital            education  default  housing  \\\n",
       "0   30   blue-collar   married             basic.9y       no      yes   \n",
       "1   39      services    single          high.school       no       no   \n",
       "2   25      services   married          high.school       no      yes   \n",
       "3   38      services   married             basic.9y       no  unknown   \n",
       "4   47        admin.   married    university.degree       no      yes   \n",
       "5   32      services    single    university.degree       no       no   \n",
       "6   32        admin.    single    university.degree       no      yes   \n",
       "7   41  entrepreneur   married    university.degree  unknown      yes   \n",
       "8   31      services  divorced  professional.course       no       no   \n",
       "9   35   blue-collar   married             basic.9y  unknown       no   \n",
       "\n",
       "      loan    contact month day_of_week  campaign  pdays  previous  \\\n",
       "0       no   cellular   may         fri         2    999         0   \n",
       "1       no  telephone   may         fri         4    999         0   \n",
       "2       no  telephone   jun         wed         1    999         0   \n",
       "3  unknown  telephone   jun         fri         3    999         0   \n",
       "4       no   cellular   nov         mon         1    999         0   \n",
       "5       no   cellular   sep         thu         3    999         2   \n",
       "6       no   cellular   sep         mon         4    999         0   \n",
       "7       no   cellular   nov         mon         2    999         0   \n",
       "8       no   cellular   nov         tue         1    999         1   \n",
       "9       no  telephone   may         thu         1    999         0   \n",
       "\n",
       "      poutcome  emp.var.rate  cons.price.idx  cons.conf.idx  euribor3m  \\\n",
       "0  nonexistent          -1.8          92.893          -46.2      1.313   \n",
       "1  nonexistent           1.1          93.994          -36.4      4.855   \n",
       "2  nonexistent           1.4          94.465          -41.8      4.962   \n",
       "3  nonexistent           1.4          94.465          -41.8      4.959   \n",
       "4  nonexistent          -0.1          93.200          -42.0      4.191   \n",
       "5      failure          -1.1          94.199          -37.5      0.884   \n",
       "6  nonexistent          -1.1          94.199          -37.5      0.879   \n",
       "7  nonexistent          -0.1          93.200          -42.0      4.191   \n",
       "8      failure          -0.1          93.200          -42.0      4.153   \n",
       "9  nonexistent           1.1          93.994          -36.4      4.855   \n",
       "\n",
       "   nr.employed   y  Unnamed: 21  \n",
       "0       5099.1  no        451.0  \n",
       "1       5191.0  no       3668.0  \n",
       "2       5228.1  no          NaN  \n",
       "3       5228.1  no          NaN  \n",
       "4       5195.8  no          NaN  \n",
       "5       4963.6  no          NaN  \n",
       "6       4963.6  no          NaN  \n",
       "7       5195.8  no          NaN  \n",
       "8       5195.8  no          NaN  \n",
       "9       5191.0  no          NaN  "
      ]
     },
     "execution_count": 63,
     "metadata": {},
     "output_type": "execute_result"
    }
   ],
   "source": [
    "df.head(10)"
   ]
  },
  {
   "cell_type": "markdown",
   "metadata": {},
   "source": [
    "<h3>#3_2 : Removing Rows with Missing Values</h3>"
   ]
  },
  {
   "cell_type": "markdown",
   "metadata": {},
   "source": [
    "<p>If there are missing values in the data, some form of handling may be necessary.</p>\n",
    "<p>Possible approaches include:</p>\n",
    "<ul>\n",
    "  <li>Deleting rows with missing values <-- This approach</li>\n",
    "  <li>Deleting columns with missing values</li>\n",
    "  <li>Imputing missing values with specific values (e.g., mean or recent values)</li>\n",
    "  <li>Handling missing values as Null data without modification</li>\n",
    "</ul>\n",
    "\n",
    "\n",
    "```\n",
    "# You can delete all rows (or columns) by setting the column (or row) names list to empty.\n",
    "# how: Specifies the condition for deleting rows or columns (use 'any' to delete if any value is missing, 'all' to delete only if all values are missing).\n",
    "# axis: Specifies the direction of the operation (1 for column deletion, 0 for row deletion).\n",
    "\n",
    "df.dropna(subset=columns_name_list, how='any', axis=0).reset_index(drop=True)\n",
    "\n",
    "```\n"
   ]
  },
  {
   "cell_type": "code",
   "execution_count": 64,
   "metadata": {},
   "outputs": [
    {
     "name": "stdout",
     "output_type": "stream",
     "text": [
      "<class 'pandas.core.frame.DataFrame'>\n",
      "RangeIndex: 4119 entries, 0 to 4118\n",
      "Data columns (total 21 columns):\n",
      " #   Column          Non-Null Count  Dtype  \n",
      "---  ------          --------------  -----  \n",
      " 0   age             4119 non-null   int64  \n",
      " 1   job             4119 non-null   object \n",
      " 2   marital         4119 non-null   object \n",
      " 3   education       4119 non-null   object \n",
      " 4   default         4119 non-null   object \n",
      " 5   housing         4119 non-null   object \n",
      " 6   loan            4119 non-null   object \n",
      " 7   contact         4119 non-null   object \n",
      " 8   month           4119 non-null   object \n",
      " 9   day_of_week     4119 non-null   object \n",
      " 10  campaign        4119 non-null   int64  \n",
      " 11  pdays           4119 non-null   int64  \n",
      " 12  previous        4119 non-null   int64  \n",
      " 13  poutcome        4119 non-null   object \n",
      " 14  emp.var.rate    4119 non-null   float64\n",
      " 15  cons.price.idx  4119 non-null   float64\n",
      " 16  cons.conf.idx   4119 non-null   float64\n",
      " 17  euribor3m       4119 non-null   float64\n",
      " 18  nr.employed     4119 non-null   float64\n",
      " 19  y               4119 non-null   object \n",
      " 20  Unnamed: 21     2 non-null      float64\n",
      "dtypes: float64(6), int64(4), object(11)\n",
      "memory usage: 675.9+ KB\n"
     ]
    }
   ],
   "source": [
    "df.info()"
   ]
  },
  {
   "cell_type": "markdown",
   "metadata": {},
   "source": [
    "<h3>#3_3: Generating New Features (Categorizing Numerical Data)</h3>"
   ]
  },
  {
   "cell_type": "markdown",
   "metadata": {},
   "source": [
    "<p>Split numerical data into categories and convert it into categorical variables.</p>\n",
    "<p>Divide the range of data from the minimum to the maximum into n intervals and return the corresponding category.</p>\n",
    "\n",
    "\n",
    "```\n",
    "# Specify the number of intervals as an integer\n",
    "pd.cut(df[列名], bins=分割数, labels=False)\n",
    "```"
   ]
  },
  {
   "cell_type": "code",
   "execution_count": 65,
   "metadata": {},
   "outputs": [],
   "source": [
    "# Create a categorical feature by dividing age into 4 intervals\n",
    "df['ageband'] = pd.cut(df['age'], 4, labels=False).astype('str')"
   ]
  },
  {
   "cell_type": "code",
   "execution_count": 66,
   "metadata": {},
   "outputs": [],
   "source": [
    "# Create a new categorical feature by dividing 'emp.var.rate' into 4 intervals\n",
    "# df['emp.var.rateband'] = pd.cut(df['emp.var.rate'], 4, labels=False).astype('str')"
   ]
  },
  {
   "cell_type": "code",
   "execution_count": 67,
   "metadata": {},
   "outputs": [
    {
     "data": {
      "text/html": [
       "<div>\n",
       "<style scoped>\n",
       "    .dataframe tbody tr th:only-of-type {\n",
       "        vertical-align: middle;\n",
       "    }\n",
       "\n",
       "    .dataframe tbody tr th {\n",
       "        vertical-align: top;\n",
       "    }\n",
       "\n",
       "    .dataframe thead th {\n",
       "        text-align: right;\n",
       "    }\n",
       "</style>\n",
       "<table border=\"1\" class=\"dataframe\">\n",
       "  <thead>\n",
       "    <tr style=\"text-align: right;\">\n",
       "      <th></th>\n",
       "      <th>age</th>\n",
       "      <th>ageband</th>\n",
       "    </tr>\n",
       "  </thead>\n",
       "  <tbody>\n",
       "    <tr>\n",
       "      <th>0</th>\n",
       "      <td>30</td>\n",
       "      <td>0</td>\n",
       "    </tr>\n",
       "    <tr>\n",
       "      <th>1</th>\n",
       "      <td>39</td>\n",
       "      <td>1</td>\n",
       "    </tr>\n",
       "    <tr>\n",
       "      <th>2</th>\n",
       "      <td>25</td>\n",
       "      <td>0</td>\n",
       "    </tr>\n",
       "    <tr>\n",
       "      <th>3</th>\n",
       "      <td>38</td>\n",
       "      <td>1</td>\n",
       "    </tr>\n",
       "    <tr>\n",
       "      <th>4</th>\n",
       "      <td>47</td>\n",
       "      <td>1</td>\n",
       "    </tr>\n",
       "    <tr>\n",
       "      <th>5</th>\n",
       "      <td>32</td>\n",
       "      <td>0</td>\n",
       "    </tr>\n",
       "    <tr>\n",
       "      <th>6</th>\n",
       "      <td>32</td>\n",
       "      <td>0</td>\n",
       "    </tr>\n",
       "    <tr>\n",
       "      <th>7</th>\n",
       "      <td>41</td>\n",
       "      <td>1</td>\n",
       "    </tr>\n",
       "    <tr>\n",
       "      <th>8</th>\n",
       "      <td>31</td>\n",
       "      <td>0</td>\n",
       "    </tr>\n",
       "    <tr>\n",
       "      <th>9</th>\n",
       "      <td>35</td>\n",
       "      <td>0</td>\n",
       "    </tr>\n",
       "  </tbody>\n",
       "</table>\n",
       "</div>"
      ],
      "text/plain": [
       "   age ageband\n",
       "0   30       0\n",
       "1   39       1\n",
       "2   25       0\n",
       "3   38       1\n",
       "4   47       1\n",
       "5   32       0\n",
       "6   32       0\n",
       "7   41       1\n",
       "8   31       0\n",
       "9   35       0"
      ]
     },
     "execution_count": 67,
     "metadata": {},
     "output_type": "execute_result"
    }
   ],
   "source": [
    "df[['age', 'ageband']].head(10)"
   ]
  },
  {
   "cell_type": "markdown",
   "metadata": {},
   "source": [
    "<h3>#3_4 : Generation of New Features (Combination of Multiple Columns)</h3>"
   ]
  },
  {
   "cell_type": "markdown",
   "metadata": {},
   "source": [
    "<p>It is possible to generate new features by combining multiple columns.</p>"
   ]
  },
  {
   "cell_type": "code",
   "execution_count": 68,
   "metadata": {},
   "outputs": [],
   "source": [
    "# [Practical] Let's Try Creating a New Column (Optional)"
   ]
  },
  {
   "cell_type": "code",
   "execution_count": 69,
   "metadata": {},
   "outputs": [],
   "source": [
    "# Numeric Variable + Categorical Variable\n",
    "# df['age_marital'] = df['age'].astype(str) + '_' + df['marital']"
   ]
  },
  {
   "cell_type": "markdown",
   "metadata": {},
   "source": [
    "<h3>#3_5 : Generation of New Features (Categorization of Numeric Data using Ternary Operator)</h3>"
   ]
  },
  {
   "cell_type": "markdown",
   "metadata": {},
   "source": [
    "<p>Use the apply function and lambda functions to perform specific operations on each row.</p>\n",
    "\n",
    "```\n",
    "# By specifying r[<column_name>] within the conditional expression, you can perform operations using row-specific values for a particular column\n",
    "# axis: Specify the direction of operation (1 for row operations, 0 for column operations)\n",
    "df.apply(lambda r: value_if_condition_is_true if condition else value_if_condition_is_false, axis=1)\n",
    "```"
   ]
  },
  {
   "cell_type": "code",
   "execution_count": 70,
   "metadata": {},
   "outputs": [],
   "source": [
    "# [Practical] Let's Try Creating a New Column (Optional)"
   ]
  },
  {
   "cell_type": "code",
   "execution_count": 71,
   "metadata": {},
   "outputs": [],
   "source": [
    "# Rewrite 1: Classify the number of contacts during the campaign into 2 types: 0 and 1 or more\n",
    "df['campaign'] = df.apply(lambda r: 1 if r['campaign'] > 0 else 0, axis=1)"
   ]
  },
  {
   "cell_type": "code",
   "execution_count": 72,
   "metadata": {},
   "outputs": [],
   "source": [
    "# Rewrite Example 2: Classify 'job' into 2 types\n",
    "# nonsalary_jobs = ['admin.', 'entrepreneur', 'self-employed', 'student', 'retired', 'housemaid', 'unemployed', 'unknown']\n",
    "# df['job'] = np.where(df['job'].isin(nonsalary_jobs), 'job_nonsalary', 'job_salary')"
   ]
  },
  {
   "cell_type": "markdown",
   "metadata": {},
   "source": [
    "<h3>#3_6 : One-Hot Encoding of Categorical Variables</h3>"
   ]
  },
  {
   "cell_type": "markdown",
   "metadata": {},
   "source": [
    "<p>Categorical variables need to be transformed into a format that can be read by machines.</p>\n",
    "\n",
    "```\n",
    "# By passing the dataframe as a parameter, you can convert all at once\n",
    "# Specify the data type to convert from dtype\n",
    "pd.get_dummies(df[<list_of_column_names>], dtype=int)\n",
    "```"
   ]
  },
  {
   "cell_type": "code",
   "execution_count": 73,
   "metadata": {},
   "outputs": [],
   "source": [
    "# Convert the following columns to categorical variables (either add new columns or remove unused columns)\n",
    "# [Practical] Add the column names you created yourself\n",
    "category_columns = [#'job', \n",
    "                    #'marital', \n",
    "                    #'education', \n",
    "                    #'default', \n",
    "                     #'loan', \n",
    "                     #'contact', \n",
    "                     #'month', \n",
    "                     #'day_of_week', \n",
    "                     #'poutcome', \n",
    "                     'ageband', \n",
    "                     'campaign'\n",
    "                     ]\n"
   ]
  },
  {
   "cell_type": "code",
   "execution_count": 74,
   "metadata": {},
   "outputs": [],
   "source": [
    "# Convert to one-hot encoding\n",
    "df_category = pd.get_dummies(df[category_columns], dtype=int)"
   ]
  },
  {
   "cell_type": "code",
   "execution_count": 75,
   "metadata": {},
   "outputs": [
    {
     "data": {
      "text/html": [
       "<div>\n",
       "<style scoped>\n",
       "    .dataframe tbody tr th:only-of-type {\n",
       "        vertical-align: middle;\n",
       "    }\n",
       "\n",
       "    .dataframe tbody tr th {\n",
       "        vertical-align: top;\n",
       "    }\n",
       "\n",
       "    .dataframe thead th {\n",
       "        text-align: right;\n",
       "    }\n",
       "</style>\n",
       "<table border=\"1\" class=\"dataframe\">\n",
       "  <thead>\n",
       "    <tr style=\"text-align: right;\">\n",
       "      <th></th>\n",
       "      <th>campaign</th>\n",
       "      <th>ageband_0</th>\n",
       "      <th>ageband_1</th>\n",
       "      <th>ageband_2</th>\n",
       "      <th>ageband_3</th>\n",
       "    </tr>\n",
       "  </thead>\n",
       "  <tbody>\n",
       "    <tr>\n",
       "      <th>0</th>\n",
       "      <td>1</td>\n",
       "      <td>1</td>\n",
       "      <td>0</td>\n",
       "      <td>0</td>\n",
       "      <td>0</td>\n",
       "    </tr>\n",
       "    <tr>\n",
       "      <th>1</th>\n",
       "      <td>1</td>\n",
       "      <td>0</td>\n",
       "      <td>1</td>\n",
       "      <td>0</td>\n",
       "      <td>0</td>\n",
       "    </tr>\n",
       "    <tr>\n",
       "      <th>2</th>\n",
       "      <td>1</td>\n",
       "      <td>1</td>\n",
       "      <td>0</td>\n",
       "      <td>0</td>\n",
       "      <td>0</td>\n",
       "    </tr>\n",
       "    <tr>\n",
       "      <th>3</th>\n",
       "      <td>1</td>\n",
       "      <td>0</td>\n",
       "      <td>1</td>\n",
       "      <td>0</td>\n",
       "      <td>0</td>\n",
       "    </tr>\n",
       "    <tr>\n",
       "      <th>4</th>\n",
       "      <td>1</td>\n",
       "      <td>0</td>\n",
       "      <td>1</td>\n",
       "      <td>0</td>\n",
       "      <td>0</td>\n",
       "    </tr>\n",
       "  </tbody>\n",
       "</table>\n",
       "</div>"
      ],
      "text/plain": [
       "   campaign  ageband_0  ageband_1  ageband_2  ageband_3\n",
       "0         1          1          0          0          0\n",
       "1         1          0          1          0          0\n",
       "2         1          1          0          0          0\n",
       "3         1          0          1          0          0\n",
       "4         1          0          1          0          0"
      ]
     },
     "execution_count": 75,
     "metadata": {},
     "output_type": "execute_result"
    }
   ],
   "source": [
    "df_category.head()"
   ]
  },
  {
   "cell_type": "markdown",
   "metadata": {},
   "source": [
    "<h3>#3_7 : Extraction of Numeric Data</h3>"
   ]
  },
  {
   "cell_type": "code",
   "execution_count": 76,
   "metadata": {},
   "outputs": [
    {
     "data": {
      "text/plain": [
       "Index(['age', 'job', 'marital', 'education', 'default', 'housing', 'loan',\n",
       "       'contact', 'month', 'day_of_week', 'campaign', 'pdays', 'previous',\n",
       "       'poutcome', 'emp.var.rate', 'cons.price.idx', 'cons.conf.idx',\n",
       "       'euribor3m', 'nr.employed', 'y', 'Unnamed: 21', 'ageband'],\n",
       "      dtype='object')"
      ]
     },
     "execution_count": 76,
     "metadata": {},
     "output_type": "execute_result"
    }
   ],
   "source": [
    "df.columns"
   ]
  },
  {
   "cell_type": "code",
   "execution_count": 77,
   "metadata": {},
   "outputs": [],
   "source": [
    "# Standardize the following columns (either add new columns or remove unused columns)\n",
    "# [Practical] Add the column names you created yourself\n",
    "num_columns = [#'pdays', \n",
    "               #'previous',\n",
    "               #'emp.var.rate', \n",
    "               'cons.price.idx', \n",
    "               #'cons.conf.idx', \n",
    "               'euribor3m', \n",
    "               'nr.employed'\n",
    "               ]"
   ]
  },
  {
   "cell_type": "code",
   "execution_count": 78,
   "metadata": {},
   "outputs": [],
   "source": [
    "# Convert the dataframe to include only the columns specified in df['num_columns']\n",
    "df_ss = df[num_columns]"
   ]
  },
  {
   "cell_type": "markdown",
   "metadata": {},
   "source": [
    "<h3>#3_8 : Data Merging</h3>"
   ]
  },
  {
   "cell_type": "markdown",
   "metadata": {},
   "source": [
    "<p>Perform horizontal concatenation of multiple dataframes.</p>\n",
    "\n",
    "```\n",
    "# Use axis=1 for horizontal concatenation, and axis=0 for vertical concatenation\n",
    "pd.concat(list_of_dataframes, axis=1)\n",
    "```"
   ]
  },
  {
   "cell_type": "code",
   "execution_count": 79,
   "metadata": {},
   "outputs": [],
   "source": [
    "# Merge the created numeric data and the one-hot encoded data\n",
    "df_ml = pd.concat([df_ss, df_category], axis=1)"
   ]
  },
  {
   "cell_type": "code",
   "execution_count": 80,
   "metadata": {},
   "outputs": [
    {
     "data": {
      "text/html": [
       "<div>\n",
       "<style scoped>\n",
       "    .dataframe tbody tr th:only-of-type {\n",
       "        vertical-align: middle;\n",
       "    }\n",
       "\n",
       "    .dataframe tbody tr th {\n",
       "        vertical-align: top;\n",
       "    }\n",
       "\n",
       "    .dataframe thead th {\n",
       "        text-align: right;\n",
       "    }\n",
       "</style>\n",
       "<table border=\"1\" class=\"dataframe\">\n",
       "  <thead>\n",
       "    <tr style=\"text-align: right;\">\n",
       "      <th></th>\n",
       "      <th>cons.price.idx</th>\n",
       "      <th>euribor3m</th>\n",
       "      <th>nr.employed</th>\n",
       "      <th>campaign</th>\n",
       "      <th>ageband_0</th>\n",
       "      <th>ageband_1</th>\n",
       "      <th>ageband_2</th>\n",
       "      <th>ageband_3</th>\n",
       "    </tr>\n",
       "  </thead>\n",
       "  <tbody>\n",
       "    <tr>\n",
       "      <th>0</th>\n",
       "      <td>92.893</td>\n",
       "      <td>1.313</td>\n",
       "      <td>5099.1</td>\n",
       "      <td>1</td>\n",
       "      <td>1</td>\n",
       "      <td>0</td>\n",
       "      <td>0</td>\n",
       "      <td>0</td>\n",
       "    </tr>\n",
       "    <tr>\n",
       "      <th>1</th>\n",
       "      <td>93.994</td>\n",
       "      <td>4.855</td>\n",
       "      <td>5191.0</td>\n",
       "      <td>1</td>\n",
       "      <td>0</td>\n",
       "      <td>1</td>\n",
       "      <td>0</td>\n",
       "      <td>0</td>\n",
       "    </tr>\n",
       "    <tr>\n",
       "      <th>2</th>\n",
       "      <td>94.465</td>\n",
       "      <td>4.962</td>\n",
       "      <td>5228.1</td>\n",
       "      <td>1</td>\n",
       "      <td>1</td>\n",
       "      <td>0</td>\n",
       "      <td>0</td>\n",
       "      <td>0</td>\n",
       "    </tr>\n",
       "    <tr>\n",
       "      <th>3</th>\n",
       "      <td>94.465</td>\n",
       "      <td>4.959</td>\n",
       "      <td>5228.1</td>\n",
       "      <td>1</td>\n",
       "      <td>0</td>\n",
       "      <td>1</td>\n",
       "      <td>0</td>\n",
       "      <td>0</td>\n",
       "    </tr>\n",
       "    <tr>\n",
       "      <th>4</th>\n",
       "      <td>93.200</td>\n",
       "      <td>4.191</td>\n",
       "      <td>5195.8</td>\n",
       "      <td>1</td>\n",
       "      <td>0</td>\n",
       "      <td>1</td>\n",
       "      <td>0</td>\n",
       "      <td>0</td>\n",
       "    </tr>\n",
       "    <tr>\n",
       "      <th>5</th>\n",
       "      <td>94.199</td>\n",
       "      <td>0.884</td>\n",
       "      <td>4963.6</td>\n",
       "      <td>1</td>\n",
       "      <td>1</td>\n",
       "      <td>0</td>\n",
       "      <td>0</td>\n",
       "      <td>0</td>\n",
       "    </tr>\n",
       "    <tr>\n",
       "      <th>6</th>\n",
       "      <td>94.199</td>\n",
       "      <td>0.879</td>\n",
       "      <td>4963.6</td>\n",
       "      <td>1</td>\n",
       "      <td>1</td>\n",
       "      <td>0</td>\n",
       "      <td>0</td>\n",
       "      <td>0</td>\n",
       "    </tr>\n",
       "    <tr>\n",
       "      <th>7</th>\n",
       "      <td>93.200</td>\n",
       "      <td>4.191</td>\n",
       "      <td>5195.8</td>\n",
       "      <td>1</td>\n",
       "      <td>0</td>\n",
       "      <td>1</td>\n",
       "      <td>0</td>\n",
       "      <td>0</td>\n",
       "    </tr>\n",
       "    <tr>\n",
       "      <th>8</th>\n",
       "      <td>93.200</td>\n",
       "      <td>4.153</td>\n",
       "      <td>5195.8</td>\n",
       "      <td>1</td>\n",
       "      <td>1</td>\n",
       "      <td>0</td>\n",
       "      <td>0</td>\n",
       "      <td>0</td>\n",
       "    </tr>\n",
       "    <tr>\n",
       "      <th>9</th>\n",
       "      <td>93.994</td>\n",
       "      <td>4.855</td>\n",
       "      <td>5191.0</td>\n",
       "      <td>1</td>\n",
       "      <td>1</td>\n",
       "      <td>0</td>\n",
       "      <td>0</td>\n",
       "      <td>0</td>\n",
       "    </tr>\n",
       "  </tbody>\n",
       "</table>\n",
       "</div>"
      ],
      "text/plain": [
       "   cons.price.idx  euribor3m  nr.employed  campaign  ageband_0  ageband_1  \\\n",
       "0          92.893      1.313       5099.1         1          1          0   \n",
       "1          93.994      4.855       5191.0         1          0          1   \n",
       "2          94.465      4.962       5228.1         1          1          0   \n",
       "3          94.465      4.959       5228.1         1          0          1   \n",
       "4          93.200      4.191       5195.8         1          0          1   \n",
       "5          94.199      0.884       4963.6         1          1          0   \n",
       "6          94.199      0.879       4963.6         1          1          0   \n",
       "7          93.200      4.191       5195.8         1          0          1   \n",
       "8          93.200      4.153       5195.8         1          1          0   \n",
       "9          93.994      4.855       5191.0         1          1          0   \n",
       "\n",
       "   ageband_2  ageband_3  \n",
       "0          0          0  \n",
       "1          0          0  \n",
       "2          0          0  \n",
       "3          0          0  \n",
       "4          0          0  \n",
       "5          0          0  \n",
       "6          0          0  \n",
       "7          0          0  \n",
       "8          0          0  \n",
       "9          0          0  "
      ]
     },
     "execution_count": 80,
     "metadata": {},
     "output_type": "execute_result"
    }
   ],
   "source": [
    "df_ml.head(10)"
   ]
  },
  {
   "cell_type": "markdown",
   "metadata": {},
   "source": [
    "<h3>#3_9 : Splitting Training and Test Data</h3>"
   ]
  },
  {
   "cell_type": "markdown",
   "metadata": {},
   "source": [
    "<p>Split the dataset into training and test data to create an analysis model.</p>\n",
    "\n",
    "```\n",
    "# test_size: Define the ratio for splitting the dataset into training and test sets\n",
    "# random_state: Random seed value (Setting a seed ensures that the function's execution results are consistent, maintaining reproducibility in analysis)\n",
    "X_train, X_test, y_train, y_test = train_test_split(features_dataset, target_dataset, test_size=a_decimal_value_between_0_and_1, random_state=any_constant)\n",
    "\n",
    "```"
   ]
  },
  {
   "cell_type": "code",
   "execution_count": 81,
   "metadata": {},
   "outputs": [
    {
     "name": "stdout",
     "output_type": "stream",
     "text": [
      "Index(['cons.price.idx', 'euribor3m', 'nr.employed', 'campaign', 'ageband_0',\n",
      "       'ageband_1', 'ageband_2', 'ageband_3'],\n",
      "      dtype='object')\n"
     ]
    }
   ],
   "source": [
    "# List of columns used for current analysis\n",
    "use_cols = df_ml.columns\n",
    "print(use_cols)"
   ]
  },
  {
   "cell_type": "code",
   "execution_count": 82,
   "metadata": {},
   "outputs": [],
   "source": [
    "# [Practical] If there are unnecessary columns, remove them\n",
    "# df_mn.drop(['unnecessary_column_name1', 'unnecessary_column_name2',...], axis=1)"
   ]
  },
  {
   "cell_type": "code",
   "execution_count": 83,
   "metadata": {},
   "outputs": [],
   "source": [
    "X = df_ml[use_cols]  # Data used as features <-- Use data specified by use_cols\n",
    "y = df['y'].map({'yes': 1, 'no': 0})  # Data used as target <-- Predict whether a new account was opened. 'yes' is mapped to 1 and 'no' to 0"
   ]
  },
  {
   "cell_type": "code",
   "execution_count": 84,
   "metadata": {},
   "outputs": [],
   "source": [
    "# test_size: Use 30% of the data for the test dataset and the remaining 70% for the training dataset\n",
    "X_train, X_test, y_train, y_test = train_test_split(X, y, test_size=0.3, random_state=99)"
   ]
  },
  {
   "cell_type": "markdown",
   "metadata": {},
   "source": [
    "<h2>#4 : Model Creation</h2>"
   ]
  },
  {
   "cell_type": "markdown",
   "metadata": {},
   "source": [
    "<h3>Decision Tree Model</h3>"
   ]
  },
  {
   "cell_type": "code",
   "execution_count": 85,
   "metadata": {},
   "outputs": [],
   "source": [
    "# To create a decision tree model, copy and use the following method\n",
    "def MakeTreeModel(X_train, y_train, depth, figsize=(12,6)):\n",
    "  \"\"\" \n",
    "    Create a Decision Tree Model\n",
    "\n",
    "    Args: \n",
    "      X_train: Features for training\n",
    "      y_train: Target variable for training\n",
    "      depth: Depth of the decision tree (default is 2)\n",
    "      figsize: Size of the image for visualizing the decision tree\n",
    "      \n",
    "    Return:\n",
    "      Trained decision tree model\n",
    "  \"\"\"\n",
    "  # Initialize the decision tree model (create an instance)\n",
    "  # random_state: Random seed value (Setting a seed ensures that the function's execution results are consistent, maintaining reproducibility in analysis)\n",
    "  # max_depth: Defines the number of splitting levels in the decision tree. For example, max_depth = 2 will result in 2 levels\n",
    "  tree_model = DecisionTreeClassifier(random_state=99, max_depth=depth)\n",
    "\n",
    "  # Train the model\n",
    "  tree_model.fit(X_train, y_train)\n",
    "\n",
    "  print(pd.Series(tree_model.feature_importances_, index=X_train.columns).sort_values(ascending=False))\n",
    "\n",
    "  # Visualize the decision tree algorithm\n",
    "  plt.figure(figsize=figsize)\n",
    "  class_names_map = {0: 'no', 1: 'yes'}\n",
    "  class_names_str = [class_names_map[cls] for cls in sorted(np.unique(y_train))]\n",
    "  ax = plot_tree(tree_model, max_depth=depth, feature_names=X_train.columns, class_names=class_names_str, filled=True)\n",
    "  plt.show()\n",
    "\n",
    "  return tree_model\n"
   ]
  },
  {
   "cell_type": "markdown",
   "metadata": {},
   "source": [
    "<h3>Executing Model Creation</h3>"
   ]
  },
  {
   "cell_type": "code",
   "execution_count": 86,
   "metadata": {},
   "outputs": [
    {
     "name": "stdout",
     "output_type": "stream",
     "text": [
      "nr.employed       0.732\n",
      "euribor3m         0.156\n",
      "cons.price.idx    0.083\n",
      "ageband_1         0.015\n",
      "ageband_3         0.014\n",
      "campaign          0.000\n",
      "ageband_0         0.000\n",
      "ageband_2         0.000\n",
      "dtype: float64\n"
     ]
    },
    {
     "data": {
      "image/png": "[encoded data removed]",
      "text/plain": [
       "<Figure size 1200x600 with 1 Axes>"
      ]
     },
     "metadata": {},
     "output_type": "display_data"
    }
   ],
   "source": [
    "# Depth of the decision tree\n",
    "model_depth = 3\n",
    "\n",
    "# Threshold for prediction probabilities (between 0 and 1; extremely high or low values will cause errors)\n",
    "# [Practical] Try changing the threshold\n",
    "threshold = 0.5\n",
    "\n",
    "tree_model = MakeTreeModel(X_train, y_train, model_depth)\n",
    "\n",
    "# decision_tree_model.predict( test_data ) : Predict data using the created model\n",
    "y_pred_tree = tree_model.predict_proba(X_test)[:, 1]\n",
    "\n",
    "# Apply threshold to the prediction results\n",
    "y_pred_prob_threshold = (y_pred_tree >= threshold).astype(int)"
   ]
  },
  {
   "cell_type": "markdown",
   "metadata": {},
   "source": [
    "<h2>#5 : Model Evaluation</h2>"
   ]
  },
  {
   "cell_type": "markdown",
   "metadata": {},
   "source": [
    "<h3>#5-1: Confusion Matrix</h3>"
   ]
  },
  {
   "cell_type": "markdown",
   "metadata": {},
   "source": [
    "<p>Models need to be evaluated using multiple metrics beyond just accuracy to determine their usefulness.</p>\n",
    "<ul>\n",
    "  <li>Accuracy: The ratio of correctly predicted data among the total data when predicting \"Positive or Negative.\"</li>\n",
    "  <li>Recall: The ratio of correctly predicted Positive cases out of all actual Positive cases (TP/(TP+FN)).</li>\n",
    "  <li>Precision: The ratio of correctly predicted Positive cases out of all cases predicted as Positive (TP/(TP+FP)).</li>\n",
    "  <li>F1 Score: A metric that takes the harmonic mean of Precision and Recall.</li>\n",
    "</ul>"
   ]
  },
  {
   "cell_type": "markdown",
   "metadata": {},
   "source": [
    "<p>Create a dataframe containing only numeric data.</p>"
   ]
  },
  {
   "cell_type": "markdown",
   "metadata": {},
   "source": [
    "![alt text](Typical-structure-of-confusion-matrix-1.png)"
   ]
  },
  {
   "cell_type": "code",
   "execution_count": 87,
   "metadata": {},
   "outputs": [],
   "source": [
    "# To evaluate the model, copy and use the following method\n",
    "def Evaluation(y_test, y_pred):\n",
    "    \"\"\" \n",
    "    Calculate evaluation metrics derived from the confusion matrix\n",
    "    Args:\n",
    "        y_test: Test data\n",
    "        y_pred: Predicted data\n",
    "    \"\"\"\n",
    "\n",
    "    # Calculate accuracy\n",
    "    accuracy = accuracy_score(y_test, y_pred)\n",
    "    # Calculate recall\n",
    "    recall = recall_score(y_test, y_pred, pos_label=1)\n",
    "    # Calculate precision\n",
    "    precision = precision_score(y_test, y_pred, pos_label=1)\n",
    "    # Calculate F1 score\n",
    "    f1 = f1_score(y_test, y_pred, pos_label=1)\n",
    "\n",
    "    # Output results (using formatted strings to display results rounded to three decimal places)\n",
    "    print(f'Accuracy: {accuracy:.3f}')\n",
    "    print(f'Recall: {recall:.3f}')\n",
    "    print(f'Precision: {precision:.3f}')\n",
    "    print(f'F1 Score: {f1:.3f}')\n",
    "    print('----------')\n",
    "\n",
    "    # Confusion matrix\n",
    "    # Using the labels argument to show the count of true positives (TP) and true negatives (TN)\n",
    "    cf_mat = confusion_matrix(y_test, y_pred, labels=[1, 0])\n",
    "    print('Confusion Matrix')\n",
    "    print(cf_mat)\n"
   ]
  },
  {
   "cell_type": "code",
   "execution_count": 88,
   "metadata": {},
   "outputs": [
    {
     "name": "stdout",
     "output_type": "stream",
     "text": [
      "正解率: 0.871\n",
      "再現率: 0.135\n",
      "適合率: 0.447\n",
      "F1スコア: 0.208\n",
      "----------\n",
      "混同行列\n",
      "[[  21  134]\n",
      " [  26 1055]]\n"
     ]
    }
   ],
   "source": [
    "# Evaluate the decision tree model\n",
    "Evaluation(y_test, y_pred_prob_threshold)"
   ]
  },
  {
   "cell_type": "markdown",
   "metadata": {},
   "source": [
    "<h3>Reference #5-2: Probability Distribution</h3>"
   ]
  },
  {
   "cell_type": "markdown",
   "metadata": {},
   "source": [
    "<p>By examining the probability distribution, you can evaluate the model.</p>\n",
    "<ul>\n",
    "  <li>Calculate the probability that each test data point belongs to class 1, with the horizontal axis representing the calculated probabilities and the vertical axis representing the probability density.</li>\n",
    "  <li>The blue graph represents the group where the actual class is 0, and the red graph represents the group where the actual class is 1.</li>\n",
    "</ul>"
   ]
  },
  {
   "cell_type": "code",
   "execution_count": 89,
   "metadata": {},
   "outputs": [],
   "source": [
    "def Evaluation_Prediction_of_distribution(y_pred_prob_threshold, threshold):\n",
    "    \"\"\"\n",
    "    Plot the distribution of predicted probabilities for each class using test data and the model\n",
    "\n",
    "    Args: \n",
    "        y_pred_prob_threshold: Probabilities predicted by the model\n",
    "        threshold: Threshold value\n",
    "    \"\"\"\n",
    "    # Extract probabilities where the actual class is 0\n",
    "    prob_class_0 = y_pred_prob_threshold[y_test == 0]\n",
    "    \n",
    "    # Extract probabilities where the actual class is 1\n",
    "    prob_class_1 = y_pred_prob_threshold[y_test == 1]\n",
    "\n",
    "    # Calculate the area under the curve\n",
    "    kde_class_0 = sns.kdeplot(prob_class_0)\n",
    "    kde_class_1 = sns.kdeplot(prob_class_1)\n",
    "    \n",
    "    # Retrieve KDE data\n",
    "    kde_data_class_0 = kde_class_0.get_lines()[0].get_data()\n",
    "    kde_data_class_1 = kde_class_1.get_lines()[0].get_data()\n",
    "    \n",
    "    # Calculate the area\n",
    "    area_class_0 = np.trapz(kde_data_class_0[1], kde_data_class_0[0])\n",
    "    area_class_1 = np.trapz(kde_data_class_1[1], kde_data_class_1[0])\n",
    "    plt.clf()\n",
    "\n",
    "    # Display the results (each area should be less than or equal to 1)\n",
    "    print(f'Total probability for the group actually belonging to Class 0: {area_class_0:.2f}')\n",
    "    print(f'Total probability for the group actually belonging to Class 1: {area_class_1:.2f}')\n",
    "    \n",
    "    # Create the plot\n",
    "    plt.figure(figsize=(10, 6))\n",
    "    sns.kdeplot(prob_class_0, label='Class 0', color='blue', fill=True)\n",
    "    sns.kdeplot(prob_class_1, label='Class 1', color='red', fill=True)\n",
    "    plt.axvline(x=threshold, color='green', linestyle='--', label=f'Threshold at {threshold}')\n",
    "    plt.title('Predicted Probability in Class 1')\n",
    "    plt.xlabel('Predicted Probability')\n",
    "    plt.ylabel('Density')\n",
    "    plt.legend()\n",
    "    plt.grid(True)\n",
    "    plt.show()\n"
   ]
  },
  {
   "cell_type": "code",
   "execution_count": 90,
   "metadata": {},
   "outputs": [
    {
     "name": "stdout",
     "output_type": "stream",
     "text": [
      "実際にClass 0であるグループの確率の合計: 1.00\n",
      "実際にClass 1であるグループの確率の合計: 1.00\n"
     ]
    },
    {
     "data": {
      "text/plain": [
       "<Figure size 640x480 with 0 Axes>"
      ]
     },
     "metadata": {},
     "output_type": "display_data"
    },
    {
     "data": {
      "image/png": "[encoded data removed]",
      "text/plain": [
       "<Figure size 1000x600 with 1 Axes>"
      ]
     },
     "metadata": {},
     "output_type": "display_data"
    }
   ],
   "source": [
    "# 閾値を変更したverを確認したい場合は、モデル作成時点の閾値を変更して、モデル作成の実行の部分から回しなおす必要があります\n",
    "Evaluation_Prediction_of_distribution(y_pred_prob_threshold, threshold)"
   ]
  },
  {
   "cell_type": "markdown",
   "metadata": {},
   "source": [
    "<h3>Reference #5-3: ROC Curve and AUC</h3>"
   ]
  },
  {
   "cell_type": "markdown",
   "metadata": {},
   "source": [
    "<p>There are evaluation metrics for models such as the ROC curve and AUC.</p>\n",
    "<ul>\n",
    "  <li>ROC Curve: The ROC curve, also known as the Receiver Operating Characteristic curve, plots the True Positive Rate (TPR) on the vertical axis and the False Positive Rate (FPR) on the horizontal axis.</li>\n",
    "  <li>AUC: AUC stands for the Area Under the Curve. A larger AUC value (0.5 <= AUC <= 1) indicates better model performance.</li>\n",
    "  <li>For each predicted probability, the recall and precision are calculated using different thresholds, and the results are plotted.</li>\n",
    "</ul>\n"
   ]
  },
  {
   "cell_type": "code",
   "execution_count": 91,
   "metadata": {},
   "outputs": [],
   "source": [
    "# def Evaluation_ROC_AUC(y_test, y_pred_prob):\n",
    "#     \"\"\" \n",
    "#     Calculate evaluation metrics derived from the confusion matrix\n",
    "#     Args:\n",
    "#         y_test: Test data\n",
    "#         y_pred_prob: Predicted data (probabilities)\n",
    "#     \"\"\"\n",
    "#     fpr, tpr, thresholds = roc_curve(y_test, y_pred_prob) # Calculate using each predicted probability as the threshold\n",
    "\n",
    "#     # Calculate AUC\n",
    "#     roc_auc = auc(fpr, tpr)\n",
    "#     print('AUC:', roc_auc)\n",
    "\n",
    "#     # Plot ROC curve\n",
    "#     plt.figure()\n",
    "#     plt.plot(fpr, tpr, color='darkorange', lw=2, label='ROC curve (area = %0.2f)' % roc_auc)\n",
    "#     plt.plot([0, 1], [0, 1], color='navy', lw=2, linestyle='--')\n",
    "#     plt.xlim([0.0, 1.0])\n",
    "#     plt.ylim([0.0, 1.05])\n",
    "#     plt.xlabel('False Positive Rate')\n",
    "#     plt.ylabel('True Positive Rate')\n",
    "#     plt.title('Receiver Operating Characteristic (ROC)')\n",
    "#     plt.legend(loc=\"lower right\")\n",
    "#     plt.show()"
   ]
  },
  {
   "cell_type": "code",
   "execution_count": 92,
   "metadata": {},
   "outputs": [],
   "source": [
    "# Evaluation_ROC_AUC(y_test, y_pred_tree)"
   ]
  }
 ],
 "metadata": {
  "kernelspec": {
   "display_name": "Python 3 (ipykernel)",
   "language": "python",
   "name": "python3"
  },
  "language_info": {
   "codemirror_mode": {
    "name": "ipython",
    "version": 3
   },
   "file_extension": ".py",
   "mimetype": "text/x-python",
   "name": "python",
   "nbconvert_exporter": "python",
   "pygments_lexer": "ipython3",
   "version": "3.9.18"
  }
 },
 "nbformat": 4,
 "nbformat_minor": 4
}
